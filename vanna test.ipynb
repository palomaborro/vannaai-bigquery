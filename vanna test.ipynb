{
  "cells": [
    {
      "cell_type": "code",
      "execution_count": 1,
      "metadata": {
        "colab": {
          "base_uri": "https://localhost:8080/"
        },
        "executionInfo": {
          "elapsed": 9162,
          "status": "ok",
          "timestamp": 1709541255062,
          "user": {
            "displayName": "",
            "userId": ""
          },
          "user_tz": -60
        },
        "id": "RkUTILenlHCP",
        "outputId": "8000b298-b4ec-47f7-b548-c865e6f836b6"
      },
      "outputs": [
        {
          "name": "stdout",
          "output_type": "stream",
          "text": [
            "Defaulting to user installation because normal site-packages is not writeable\n",
            "Collecting vanna[bigquery]\n",
            "  Downloading vanna-0.2.0-py3-none-any.whl (82 kB)\n",
            "\u001b[K     |████████████████████████████████| 82 kB 3.1 MB/s  eta 0:00:01\n",
            "\u001b[?25hCollecting kaleido\n",
            "  Downloading kaleido-0.2.1-py2.py3-none-macosx_11_0_arm64.whl (85.8 MB)\n",
            "\u001b[K     |████████████████████████████████| 85.8 MB 21.8 MB/s eta 0:00:01\n",
            "\u001b[?25hRequirement already satisfied: pandas in /Users/palomaborro/Library/Python/3.9/lib/python/site-packages (from vanna[bigquery]) (2.1.4)\n",
            "Collecting sqlparse\n",
            "  Using cached sqlparse-0.4.4-py3-none-any.whl (41 kB)\n",
            "Collecting tabulate\n",
            "  Downloading tabulate-0.9.0-py3-none-any.whl (35 kB)\n",
            "Requirement already satisfied: sqlalchemy in /Users/palomaborro/Library/Python/3.9/lib/python/site-packages (from vanna[bigquery]) (2.0.25)\n",
            "Collecting plotly\n",
            "  Downloading plotly-5.19.0-py3-none-any.whl (15.7 MB)\n",
            "\u001b[K     |████████████████████████████████| 15.7 MB 64.0 MB/s eta 0:00:01\n",
            "\u001b[?25hRequirement already satisfied: requests in /Users/palomaborro/Library/Python/3.9/lib/python/site-packages (from vanna[bigquery]) (2.31.0)\n",
            "Collecting flask\n",
            "  Downloading flask-3.0.2-py3-none-any.whl (101 kB)\n",
            "\u001b[K     |████████████████████████████████| 101 kB 38.2 MB/s ta 0:00:01\n",
            "\u001b[?25hCollecting google-cloud-bigquery\n",
            "  Downloading google_cloud_bigquery-3.18.0-py2.py3-none-any.whl (230 kB)\n",
            "\u001b[K     |████████████████████████████████| 230 kB 69.2 MB/s eta 0:00:01\n",
            "\u001b[?25hCollecting itsdangerous>=2.1.2\n",
            "  Downloading itsdangerous-2.1.2-py3-none-any.whl (15 kB)\n",
            "Requirement already satisfied: importlib-metadata>=3.6.0 in /Users/palomaborro/Library/Python/3.9/lib/python/site-packages (from flask->vanna[bigquery]) (7.0.1)\n",
            "Requirement already satisfied: click>=8.1.3 in /Users/palomaborro/Library/Python/3.9/lib/python/site-packages (from flask->vanna[bigquery]) (8.1.7)\n",
            "Collecting Werkzeug>=3.0.0\n",
            "  Downloading werkzeug-3.0.1-py3-none-any.whl (226 kB)\n",
            "\u001b[K     |████████████████████████████████| 226 kB 70.9 MB/s eta 0:00:01\n",
            "\u001b[?25hCollecting blinker>=1.6.2\n",
            "  Using cached blinker-1.7.0-py3-none-any.whl (13 kB)\n",
            "Collecting Jinja2>=3.1.2\n",
            "  Downloading Jinja2-3.1.3-py3-none-any.whl (133 kB)\n",
            "\u001b[K     |████████████████████████████████| 133 kB 66.5 MB/s eta 0:00:01\n",
            "\u001b[?25hRequirement already satisfied: zipp>=0.5 in /Users/palomaborro/Library/Python/3.9/lib/python/site-packages (from importlib-metadata>=3.6.0->flask->vanna[bigquery]) (3.17.0)\n",
            "Collecting MarkupSafe>=2.0\n",
            "  Downloading MarkupSafe-2.1.5-cp39-cp39-macosx_10_9_universal2.whl (18 kB)\n",
            "Collecting google-cloud-core<3.0.0dev,>=1.6.0\n",
            "  Using cached google_cloud_core-2.4.1-py2.py3-none-any.whl (29 kB)\n",
            "Collecting google-resumable-media<3.0dev,>=0.6.0\n",
            "  Using cached google_resumable_media-2.7.0-py2.py3-none-any.whl (80 kB)\n",
            "Collecting google-api-core!=2.0.*,!=2.1.*,!=2.2.*,!=2.3.0,<3.0.0dev,>=1.31.5\n",
            "  Downloading google_api_core-2.17.1-py3-none-any.whl (137 kB)\n",
            "\u001b[K     |████████████████████████████████| 137 kB 64.1 MB/s eta 0:00:01\n",
            "\u001b[?25hRequirement already satisfied: python-dateutil<3.0dev,>=2.7.2 in /Users/palomaborro/Library/Python/3.9/lib/python/site-packages (from google-cloud-bigquery->vanna[bigquery]) (2.8.2)\n",
            "Requirement already satisfied: packaging>=20.0.0 in /Users/palomaborro/Library/Python/3.9/lib/python/site-packages (from google-cloud-bigquery->vanna[bigquery]) (23.2)\n",
            "Collecting protobuf!=3.20.0,!=3.20.1,!=4.21.0,!=4.21.1,!=4.21.2,!=4.21.3,!=4.21.4,!=4.21.5,<5.0.0.dev0,>=3.19.5\n",
            "  Downloading protobuf-4.25.3-cp37-abi3-macosx_10_9_universal2.whl (394 kB)\n",
            "\u001b[K     |████████████████████████████████| 394 kB 40.2 MB/s eta 0:00:01\n",
            "\u001b[?25hCollecting google-auth<3.0.dev0,>=2.14.1\n",
            "  Downloading google_auth-2.28.1-py2.py3-none-any.whl (186 kB)\n",
            "\u001b[K     |████████████████████████████████| 186 kB 67.9 MB/s eta 0:00:01\n",
            "\u001b[?25hCollecting googleapis-common-protos<2.0.dev0,>=1.56.2\n",
            "  Using cached googleapis_common_protos-1.62.0-py2.py3-none-any.whl (228 kB)\n",
            "Collecting cachetools<6.0,>=2.0.0\n",
            "  Downloading cachetools-5.3.3-py3-none-any.whl (9.3 kB)\n",
            "Collecting rsa<5,>=3.1.4\n",
            "  Using cached rsa-4.9-py3-none-any.whl (34 kB)\n",
            "Collecting pyasn1-modules>=0.2.1\n",
            "  Downloading pyasn1_modules-0.3.0-py2.py3-none-any.whl (181 kB)\n",
            "\u001b[K     |████████████████████████████████| 181 kB 70.4 MB/s eta 0:00:01\n",
            "\u001b[?25hCollecting google-crc32c<2.0dev,>=1.0\n",
            "  Downloading google_crc32c-1.5.0-cp39-cp39-macosx_10_9_universal2.whl (32 kB)\n",
            "Collecting pyasn1<0.6.0,>=0.4.6\n",
            "  Downloading pyasn1-0.5.1-py2.py3-none-any.whl (84 kB)\n",
            "\u001b[K     |████████████████████████████████| 84 kB 25.7 MB/s eta 0:00:01\n",
            "\u001b[?25hRequirement already satisfied: six>=1.5 in /Applications/Xcode.app/Contents/Developer/Library/Frameworks/Python3.framework/Versions/3.9/lib/python3.9/site-packages (from python-dateutil<3.0dev,>=2.7.2->google-cloud-bigquery->vanna[bigquery]) (1.15.0)\n",
            "Requirement already satisfied: urllib3<3,>=1.21.1 in /Users/palomaborro/Library/Python/3.9/lib/python/site-packages (from requests->vanna[bigquery]) (2.1.0)\n",
            "Requirement already satisfied: idna<4,>=2.5 in /Users/palomaborro/Library/Python/3.9/lib/python/site-packages (from requests->vanna[bigquery]) (3.6)\n",
            "Requirement already satisfied: certifi>=2017.4.17 in /Users/palomaborro/Library/Python/3.9/lib/python/site-packages (from requests->vanna[bigquery]) (2023.11.17)\n",
            "Requirement already satisfied: charset-normalizer<4,>=2 in /Users/palomaborro/Library/Python/3.9/lib/python/site-packages (from requests->vanna[bigquery]) (3.3.2)\n",
            "Requirement already satisfied: tzdata>=2022.1 in /Users/palomaborro/Library/Python/3.9/lib/python/site-packages (from pandas->vanna[bigquery]) (2023.4)\n",
            "Requirement already satisfied: numpy<2,>=1.22.4 in /Users/palomaborro/Library/Python/3.9/lib/python/site-packages (from pandas->vanna[bigquery]) (1.26.3)\n",
            "Requirement already satisfied: pytz>=2020.1 in /Users/palomaborro/Library/Python/3.9/lib/python/site-packages (from pandas->vanna[bigquery]) (2023.3)\n",
            "Requirement already satisfied: tenacity>=6.2.0 in /Users/palomaborro/Library/Python/3.9/lib/python/site-packages (from plotly->vanna[bigquery]) (8.2.3)\n",
            "Requirement already satisfied: typing-extensions>=4.6.0 in /Users/palomaborro/Library/Python/3.9/lib/python/site-packages (from sqlalchemy->vanna[bigquery]) (4.9.0)\n",
            "Installing collected packages: pyasn1, rsa, pyasn1-modules, protobuf, cachetools, MarkupSafe, googleapis-common-protos, google-auth, Werkzeug, Jinja2, itsdangerous, google-crc32c, google-api-core, blinker, tabulate, sqlparse, plotly, kaleido, google-resumable-media, google-cloud-core, flask, vanna, google-cloud-bigquery\n",
            "Successfully installed Jinja2-3.1.3 MarkupSafe-2.1.5 Werkzeug-3.0.1 blinker-1.7.0 cachetools-5.3.3 flask-3.0.2 google-api-core-2.17.1 google-auth-2.28.1 google-cloud-bigquery-3.18.0 google-cloud-core-2.4.1 google-crc32c-1.5.0 google-resumable-media-2.7.0 googleapis-common-protos-1.62.0 itsdangerous-2.1.2 kaleido-0.2.1 plotly-5.19.0 protobuf-4.25.3 pyasn1-0.5.1 pyasn1-modules-0.3.0 rsa-4.9 sqlparse-0.4.4 tabulate-0.9.0 vanna-0.2.0\n",
            "\u001b[33mWARNING: You are using pip version 21.2.4; however, version 24.0 is available.\n",
            "You should consider upgrading via the '/Applications/Xcode.app/Contents/Developer/usr/bin/python3 -m pip install --upgrade pip' command.\u001b[0m\n",
            "Note: you may need to restart the kernel to use updated packages.\n"
          ]
        }
      ],
      "source": [
        "%pip install 'vanna[bigquery]'"
      ]
    },
    {
      "cell_type": "code",
      "execution_count": 2,
      "metadata": {
        "id": "1x4GOFZAlNnJ"
      },
      "outputs": [
        {
          "name": "stderr",
          "output_type": "stream",
          "text": [
            "/Users/palomaborro/Library/Python/3.9/lib/python/site-packages/urllib3/__init__.py:34: NotOpenSSLWarning: urllib3 v2 only supports OpenSSL 1.1.1+, currently the 'ssl' module is compiled with 'LibreSSL 2.8.3'. See: https://github.com/urllib3/urllib3/issues/3020\n",
            "  warnings.warn(\n"
          ]
        }
      ],
      "source": [
        "from vanna.remote import VannaDefault"
      ]
    },
    {
      "cell_type": "code",
      "execution_count": 3,
      "metadata": {
        "id": "vt7-kNRHlXLQ"
      },
      "outputs": [],
      "source": [
        "vn = VannaDefault(model='public_ecommerce_poc', api_key='9c4b455e87694ea2b5e35fcc4e591bb3')"
      ]
    },
    {
      "cell_type": "code",
      "execution_count": 4,
      "metadata": {
        "id": "tpuU_A5Tlf0n"
      },
      "outputs": [
        {
          "name": "stdout",
          "output_type": "stream",
          "text": [
            "Not using Google Colab.\n"
          ]
        },
        {
          "name": "stderr",
          "output_type": "stream",
          "text": [
            "/Users/palomaborro/Library/Python/3.9/lib/python/site-packages/google/auth/_default.py:76: UserWarning: Your application has authenticated using end user credentials from Google Cloud SDK without a quota project. You might receive a \"quota exceeded\" or \"API not enabled\" error. See the following page for troubleshooting: https://cloud.google.com/docs/authentication/adc-troubleshooting/user-creds. \n",
            "  warnings.warn(_CLOUD_SDK_CREDENTIALS_WARNING)\n"
          ]
        }
      ],
      "source": [
        "vn.connect_to_bigquery(project_id='wizeline-vertex-due')"
      ]
    },
    {
      "cell_type": "code",
      "execution_count": 5,
      "metadata": {
        "colab": {
          "base_uri": "https://localhost:8080/",
          "height": 174
        },
        "executionInfo": {
          "elapsed": 754,
          "status": "ok",
          "timestamp": 1709541255814,
          "user": {
            "displayName": "",
            "userId": ""
          },
          "user_tz": -60
        },
        "id": "avTfyIaOl_rn",
        "outputId": "2def009e-65c1-421d-c3eb-60728667c7cc"
      },
      "outputs": [
        {
          "name": "stdout",
          "output_type": "stream",
          "text": [
            "Adding ddl: \n",
            "CREATE TABLE `bigquery-public-data.thelook_ecommerce.distribution_centers` (\n",
            "    id INT,\n",
            "    name STRING,\n",
            "    latitude FLOAT,\n",
            "    longitude FLOAT\n",
            ");\n",
            "\n"
          ]
        },
        {
          "data": {
            "text/plain": [
              "'45115-ddl'"
            ]
          },
          "execution_count": 5,
          "metadata": {},
          "output_type": "execute_result"
        }
      ],
      "source": [
        "vn.train(ddl=\"\"\"\n",
        "CREATE TABLE `bigquery-public-data.thelook_ecommerce.distribution_centers` (\n",
        "    id INT,\n",
        "    name STRING,\n",
        "    latitude FLOAT,\n",
        "    longitude FLOAT\n",
        ");\n",
        "\"\"\"\n",
        ")"
      ]
    },
    {
      "cell_type": "code",
      "execution_count": 6,
      "metadata": {
        "colab": {
          "base_uri": "https://localhost:8080/",
          "height": 330
        },
        "executionInfo": {
          "elapsed": 548,
          "status": "ok",
          "timestamp": 1709541256360,
          "user": {
            "displayName": "",
            "userId": ""
          },
          "user_tz": -60
        },
        "id": "YlxGS_BEmDu_",
        "outputId": "12dc83e6-7aea-4986-cff9-66e2853ba0b9"
      },
      "outputs": [
        {
          "name": "stdout",
          "output_type": "stream",
          "text": [
            "Adding ddl: \n",
            "CREATE TABLE `bigquery-public-data.thelook_ecommerce.events` (\n",
            "    id INT,\n",
            "    user_id INT,\n",
            "    sequence_number INT,\n",
            "    session_id STRING,\n",
            "    created_at TIMESTAMP,\n",
            "    ip_address STRING,\n",
            "    city STRING,\n",
            "    state STRING,\n",
            "    postal_code STRING,\n",
            "    browser STRING,\n",
            "    traffic_source STRING,\n",
            "    uri STRING,\n",
            "    event_type STRING\n",
            ");\n",
            "\n"
          ]
        },
        {
          "data": {
            "text/plain": [
              "'45116-ddl'"
            ]
          },
          "execution_count": 6,
          "metadata": {},
          "output_type": "execute_result"
        }
      ],
      "source": [
        "vn.train(ddl=\"\"\"\n",
        "CREATE TABLE `bigquery-public-data.thelook_ecommerce.events` (\n",
        "    id INT,\n",
        "    user_id INT,\n",
        "    sequence_number INT,\n",
        "    session_id STRING,\n",
        "    created_at TIMESTAMP,\n",
        "    ip_address STRING,\n",
        "    city STRING,\n",
        "    state STRING,\n",
        "    postal_code STRING,\n",
        "    browser STRING,\n",
        "    traffic_source STRING,\n",
        "    uri STRING,\n",
        "    event_type STRING\n",
        ");\n",
        "\"\"\"\n",
        ")"
      ]
    },
    {
      "cell_type": "code",
      "execution_count": 7,
      "metadata": {
        "colab": {
          "base_uri": "https://localhost:8080/",
          "height": 313
        },
        "executionInfo": {
          "elapsed": 363,
          "status": "ok",
          "timestamp": 1709541256722,
          "user": {
            "displayName": "",
            "userId": ""
          },
          "user_tz": -60
        },
        "id": "hi2vE7esmG51",
        "outputId": "6bda54d1-6181-46fe-cebc-c126d3d36abf"
      },
      "outputs": [
        {
          "name": "stdout",
          "output_type": "stream",
          "text": [
            "Adding ddl: \n",
            "CREATE TABLE `bigquery-public-data.thelook_ecommerce.inventory_items` (\n",
            "    id INT64,\n",
            "    product_id INT,\n",
            "    created_at TIMESTAMP,\n",
            "    sold_at TIMESTAMP,\n",
            "    cost FLOAT,\n",
            "    product_category STRING,\n",
            "    product_name STRING,\n",
            "    product_brand STRING,\n",
            "    product_retail_price FLOAT,\n",
            "    product_department STRING,\n",
            "    product_sku STRING,\n",
            "    product_distribution_center_id INT\n",
            ");\n",
            "\n"
          ]
        },
        {
          "data": {
            "text/plain": [
              "'45117-ddl'"
            ]
          },
          "execution_count": 7,
          "metadata": {},
          "output_type": "execute_result"
        }
      ],
      "source": [
        "vn.train(ddl=\"\"\"\n",
        "CREATE TABLE `bigquery-public-data.thelook_ecommerce.inventory_items` (\n",
        "    id INT64,\n",
        "    product_id INT,\n",
        "    created_at TIMESTAMP,\n",
        "    sold_at TIMESTAMP,\n",
        "    cost FLOAT,\n",
        "    product_category STRING,\n",
        "    product_name STRING,\n",
        "    product_brand STRING,\n",
        "    product_retail_price FLOAT,\n",
        "    product_department STRING,\n",
        "    product_sku STRING,\n",
        "    product_distribution_center_id INT\n",
        ");\n",
        "\"\"\"\n",
        ")"
      ]
    },
    {
      "cell_type": "code",
      "execution_count": 8,
      "metadata": {
        "colab": {
          "base_uri": "https://localhost:8080/",
          "height": 296
        },
        "executionInfo": {
          "elapsed": 779,
          "status": "ok",
          "timestamp": 1709541257499,
          "user": {
            "displayName": "",
            "userId": ""
          },
          "user_tz": -60
        },
        "id": "zrAKdWOokcaj",
        "outputId": "4e6ea461-9875-4ab3-f347-5b9073760e53"
      },
      "outputs": [
        {
          "name": "stdout",
          "output_type": "stream",
          "text": [
            "Adding ddl: \n",
            "CREATE TABLE `bigquery-public-data.thelook_ecommerce.order_items` (\n",
            "    id INT,\n",
            "    order_id INT,\n",
            "    user_id INT,\n",
            "    product_id INT,\n",
            "    inventory_item_id INT,\n",
            "    status STRING,\n",
            "    created_at TIMESTAMP,\n",
            "    shipped_at TIMESTAMP,\n",
            "    delivered_at TIMESTAMP,\n",
            "    returned_at TIMESTAMP,\n",
            "    sale_price FLOAT\n",
            ");\n",
            "\n"
          ]
        },
        {
          "data": {
            "text/plain": [
              "'45118-ddl'"
            ]
          },
          "execution_count": 8,
          "metadata": {},
          "output_type": "execute_result"
        }
      ],
      "source": [
        "vn.train(ddl=\"\"\"\n",
        "CREATE TABLE `bigquery-public-data.thelook_ecommerce.order_items` (\n",
        "    id INT,\n",
        "    order_id INT,\n",
        "    user_id INT,\n",
        "    product_id INT,\n",
        "    inventory_item_id INT,\n",
        "    status STRING,\n",
        "    created_at TIMESTAMP,\n",
        "    shipped_at TIMESTAMP,\n",
        "    delivered_at TIMESTAMP,\n",
        "    returned_at TIMESTAMP,\n",
        "    sale_price FLOAT\n",
        ");\n",
        "\"\"\")"
      ]
    },
    {
      "cell_type": "code",
      "execution_count": 9,
      "metadata": {
        "colab": {
          "base_uri": "https://localhost:8080/",
          "height": 261
        },
        "executionInfo": {
          "elapsed": 299,
          "status": "ok",
          "timestamp": 1709541257796,
          "user": {
            "displayName": "",
            "userId": ""
          },
          "user_tz": -60
        },
        "id": "f3Bch11lksVD",
        "outputId": "518d9267-f9db-485a-e7d0-10a07ec2d92a"
      },
      "outputs": [
        {
          "name": "stdout",
          "output_type": "stream",
          "text": [
            "Adding ddl: \n",
            "CREATE TABLE `bigquery-public-data.thelook_ecommerce.orders` (\n",
            "    order_id INT,\n",
            "    user_id INT,\n",
            "    status STRING,\n",
            "    gender STRING,\n",
            "    created_at TIMESTAMP,\n",
            "    returned_at TIMESTAMP,\n",
            "    shipped_at TIMESTAMP,\n",
            "    delivered_at TIMESTAMP,\n",
            "    num_of_item INT\n",
            ");\n",
            "\n"
          ]
        },
        {
          "data": {
            "text/plain": [
              "'45119-ddl'"
            ]
          },
          "execution_count": 9,
          "metadata": {},
          "output_type": "execute_result"
        }
      ],
      "source": [
        "vn.train(ddl=\"\"\"\n",
        "CREATE TABLE `bigquery-public-data.thelook_ecommerce.orders` (\n",
        "    order_id INT,\n",
        "    user_id INT,\n",
        "    status STRING,\n",
        "    gender STRING,\n",
        "    created_at TIMESTAMP,\n",
        "    returned_at TIMESTAMP,\n",
        "    shipped_at TIMESTAMP,\n",
        "    delivered_at TIMESTAMP,\n",
        "    num_of_item INT\n",
        ");\n",
        "\"\"\")"
      ]
    },
    {
      "cell_type": "code",
      "execution_count": 10,
      "metadata": {
        "colab": {
          "base_uri": "https://localhost:8080/",
          "height": 261
        },
        "executionInfo": {
          "elapsed": 785,
          "status": "ok",
          "timestamp": 1709541258579,
          "user": {
            "displayName": "",
            "userId": ""
          },
          "user_tz": -60
        },
        "id": "QHcymzr_k_5D",
        "outputId": "06d35a47-6406-4a01-c041-2cb270c0b274"
      },
      "outputs": [
        {
          "name": "stdout",
          "output_type": "stream",
          "text": [
            "Adding ddl: \n",
            "CREATE TABLE `bigquery-public-data.thelook_ecommerce.products` (\n",
            "    id INT,\n",
            "    cost FLOAT,\n",
            "    category STRING,\n",
            "    name STRING,\n",
            "    brand STRING,\n",
            "    retail_price FLOAT,\n",
            "    department STRING,\n",
            "    sku STRING,\n",
            "    distribution_center_id INT\n",
            ");\n",
            "\n"
          ]
        },
        {
          "data": {
            "text/plain": [
              "'45120-ddl'"
            ]
          },
          "execution_count": 10,
          "metadata": {},
          "output_type": "execute_result"
        }
      ],
      "source": [
        "vn.train(ddl=\"\"\"\n",
        "CREATE TABLE `bigquery-public-data.thelook_ecommerce.products` (\n",
        "    id INT,\n",
        "    cost FLOAT,\n",
        "    category STRING,\n",
        "    name STRING,\n",
        "    brand STRING,\n",
        "    retail_price FLOAT,\n",
        "    department STRING,\n",
        "    sku STRING,\n",
        "    distribution_center_id INT\n",
        ");\n",
        "\"\"\")"
      ]
    },
    {
      "cell_type": "code",
      "execution_count": 11,
      "metadata": {
        "colab": {
          "base_uri": "https://localhost:8080/",
          "height": 365
        },
        "executionInfo": {
          "elapsed": 527,
          "status": "ok",
          "timestamp": 1709541259104,
          "user": {
            "displayName": "",
            "userId": ""
          },
          "user_tz": -60
        },
        "id": "0ViMS6obnQ96",
        "outputId": "3a10badf-7aca-4694-e978-4f5cb3a8b12e"
      },
      "outputs": [
        {
          "name": "stdout",
          "output_type": "stream",
          "text": [
            "Adding ddl: \n",
            "CREATE TABLE `bigquery-public-data.thelook_ecommerce.users` (\n",
            "    id INT,\n",
            "    first_name STRING,\n",
            "    last_name STRING,\n",
            "    email STRING,\n",
            "    age INT,\n",
            "    gender STRING,\n",
            "    state STRING,\n",
            "    street_address STRING,\n",
            "    postal_code STRING,\n",
            "    city STRING,\n",
            "    country STRING,\n",
            "    latitude FLOAT,\n",
            "    longitude FLOAT,\n",
            "    traffic_source STRING,\n",
            "    created_at TIMESTAMP\n",
            ");\n",
            "\n"
          ]
        },
        {
          "data": {
            "text/plain": [
              "'45121-ddl'"
            ]
          },
          "execution_count": 11,
          "metadata": {},
          "output_type": "execute_result"
        }
      ],
      "source": [
        "vn.train(ddl=\"\"\"\n",
        "CREATE TABLE `bigquery-public-data.thelook_ecommerce.users` (\n",
        "    id INT,\n",
        "    first_name STRING,\n",
        "    last_name STRING,\n",
        "    email STRING,\n",
        "    age INT,\n",
        "    gender STRING,\n",
        "    state STRING,\n",
        "    street_address STRING,\n",
        "    postal_code STRING,\n",
        "    city STRING,\n",
        "    country STRING,\n",
        "    latitude FLOAT,\n",
        "    longitude FLOAT,\n",
        "    traffic_source STRING,\n",
        "    created_at TIMESTAMP\n",
        ");\n",
        "\"\"\")"
      ]
    },
    {
      "cell_type": "code",
      "execution_count": 12,
      "metadata": {
        "colab": {
          "base_uri": "https://localhost:8080/",
          "height": 896
        },
        "executionInfo": {
          "elapsed": 659,
          "status": "ok",
          "timestamp": 1709541259761,
          "user": {
            "displayName": "",
            "userId": ""
          },
          "user_tz": -60
        },
        "id": "zteTKcQxmMN9",
        "outputId": "a133cb4b-56b1-4de7-e4c2-dc82786c4c23"
      },
      "outputs": [
        {
          "data": {
            "text/html": [
              "<div>\n",
              "<style scoped>\n",
              "    .dataframe tbody tr th:only-of-type {\n",
              "        vertical-align: middle;\n",
              "    }\n",
              "\n",
              "    .dataframe tbody tr th {\n",
              "        vertical-align: top;\n",
              "    }\n",
              "\n",
              "    .dataframe thead th {\n",
              "        text-align: right;\n",
              "    }\n",
              "</style>\n",
              "<table border=\"1\" class=\"dataframe\">\n",
              "  <thead>\n",
              "    <tr style=\"text-align: right;\">\n",
              "      <th></th>\n",
              "      <th>id</th>\n",
              "      <th>training_data_type</th>\n",
              "      <th>question</th>\n",
              "      <th>content</th>\n",
              "    </tr>\n",
              "  </thead>\n",
              "  <tbody>\n",
              "    <tr>\n",
              "      <th>0</th>\n",
              "      <td>139780-sql</td>\n",
              "      <td>sql</td>\n",
              "      <td>How many different product categories are ther...</td>\n",
              "      <td>SELECT COUNT(DISTINCT product_category) AS num...</td>\n",
              "    </tr>\n",
              "    <tr>\n",
              "      <th>1</th>\n",
              "      <td>44707-ddl</td>\n",
              "      <td>ddl</td>\n",
              "      <td>None</td>\n",
              "      <td>\\nCREATE TABLE `bigquery-public-data.thelook_e...</td>\n",
              "    </tr>\n",
              "    <tr>\n",
              "      <th>2</th>\n",
              "      <td>44706-ddl</td>\n",
              "      <td>ddl</td>\n",
              "      <td>None</td>\n",
              "      <td>\\nCREATE TABLE `bigquery-public-data.thelook_e...</td>\n",
              "    </tr>\n",
              "    <tr>\n",
              "      <th>3</th>\n",
              "      <td>45111-ddl</td>\n",
              "      <td>ddl</td>\n",
              "      <td>None</td>\n",
              "      <td>\\nCREATE TABLE `bigquery-public-data.thelook_e...</td>\n",
              "    </tr>\n",
              "    <tr>\n",
              "      <th>4</th>\n",
              "      <td>44915-ddl</td>\n",
              "      <td>ddl</td>\n",
              "      <td>None</td>\n",
              "      <td>\\nCREATE TABLE `bigquery-public-data.thelook_e...</td>\n",
              "    </tr>\n",
              "    <tr>\n",
              "      <th>5</th>\n",
              "      <td>44920-ddl</td>\n",
              "      <td>ddl</td>\n",
              "      <td>None</td>\n",
              "      <td>\\nCREATE TABLE `bigquery-public-data.thelook_e...</td>\n",
              "    </tr>\n",
              "    <tr>\n",
              "      <th>6</th>\n",
              "      <td>44918-ddl</td>\n",
              "      <td>ddl</td>\n",
              "      <td>None</td>\n",
              "      <td>\\nCREATE TABLE `bigquery-public-data.thelook_e...</td>\n",
              "    </tr>\n",
              "    <tr>\n",
              "      <th>7</th>\n",
              "      <td>44733-ddl</td>\n",
              "      <td>ddl</td>\n",
              "      <td>None</td>\n",
              "      <td>\\nCREATE TABLE `bigquery-public-data.thelook_e...</td>\n",
              "    </tr>\n",
              "    <tr>\n",
              "      <th>8</th>\n",
              "      <td>44917-ddl</td>\n",
              "      <td>ddl</td>\n",
              "      <td>None</td>\n",
              "      <td>\\nCREATE TABLE `bigquery-public-data.thelook_e...</td>\n",
              "    </tr>\n",
              "    <tr>\n",
              "      <th>9</th>\n",
              "      <td>43241-ddl</td>\n",
              "      <td>ddl</td>\n",
              "      <td>None</td>\n",
              "      <td>\\nCREATE TABLE `bigquery-public-data.thelook_e...</td>\n",
              "    </tr>\n",
              "    <tr>\n",
              "      <th>10</th>\n",
              "      <td>147316-sql</td>\n",
              "      <td>sql</td>\n",
              "      <td>What are the 5 most popular products based on ...</td>\n",
              "      <td>SELECT product_id, product_name, SUM(num_of_it...</td>\n",
              "    </tr>\n",
              "    <tr>\n",
              "      <th>11</th>\n",
              "      <td>44736-ddl</td>\n",
              "      <td>ddl</td>\n",
              "      <td>None</td>\n",
              "      <td>\\nCREATE TABLE `bigquery-public-data.thelook_e...</td>\n",
              "    </tr>\n",
              "    <tr>\n",
              "      <th>12</th>\n",
              "      <td>44704-ddl</td>\n",
              "      <td>ddl</td>\n",
              "      <td>None</td>\n",
              "      <td>\\nCREATE TABLE `bigquery-public-data.thelook_e...</td>\n",
              "    </tr>\n",
              "    <tr>\n",
              "      <th>13</th>\n",
              "      <td>43240-ddl</td>\n",
              "      <td>ddl</td>\n",
              "      <td>None</td>\n",
              "      <td>\\nCREATE TABLE `bigquery-public-data.thelook_e...</td>\n",
              "    </tr>\n",
              "    <tr>\n",
              "      <th>14</th>\n",
              "      <td>43242-ddl</td>\n",
              "      <td>ddl</td>\n",
              "      <td>None</td>\n",
              "      <td>\\nCREATE TABLE `bigquery-public-data.thelook_e...</td>\n",
              "    </tr>\n",
              "    <tr>\n",
              "      <th>15</th>\n",
              "      <td>45116-ddl</td>\n",
              "      <td>ddl</td>\n",
              "      <td>None</td>\n",
              "      <td>\\nCREATE TABLE `bigquery-public-data.thelook_e...</td>\n",
              "    </tr>\n",
              "    <tr>\n",
              "      <th>16</th>\n",
              "      <td>139794-sql</td>\n",
              "      <td>sql</td>\n",
              "      <td>What is the trend in user orders in the last 4...</td>\n",
              "      <td>SELECT DATE_TRUNC(created_at, MONTH) AS month,...</td>\n",
              "    </tr>\n",
              "    <tr>\n",
              "      <th>17</th>\n",
              "      <td>44919-ddl</td>\n",
              "      <td>ddl</td>\n",
              "      <td>None</td>\n",
              "      <td>\\nCREATE TABLE `bigquery-public-data.thelook_e...</td>\n",
              "    </tr>\n",
              "    <tr>\n",
              "      <th>18</th>\n",
              "      <td>43247-ddl</td>\n",
              "      <td>ddl</td>\n",
              "      <td>None</td>\n",
              "      <td>\\nCREATE TABLE `bigquery-public-data.thelook_e...</td>\n",
              "    </tr>\n",
              "    <tr>\n",
              "      <th>19</th>\n",
              "      <td>43243-ddl</td>\n",
              "      <td>ddl</td>\n",
              "      <td>None</td>\n",
              "      <td>\\nCREATE TABLE `bigquery-public-data.thelook_e...</td>\n",
              "    </tr>\n",
              "    <tr>\n",
              "      <th>20</th>\n",
              "      <td>45117-ddl</td>\n",
              "      <td>ddl</td>\n",
              "      <td>None</td>\n",
              "      <td>\\nCREATE TABLE `bigquery-public-data.thelook_e...</td>\n",
              "    </tr>\n",
              "    <tr>\n",
              "      <th>21</th>\n",
              "      <td>43245-ddl</td>\n",
              "      <td>ddl</td>\n",
              "      <td>None</td>\n",
              "      <td>\\nCREATE TABLE `bigquery-public-data.thelook_e...</td>\n",
              "    </tr>\n",
              "    <tr>\n",
              "      <th>22</th>\n",
              "      <td>44738-ddl</td>\n",
              "      <td>ddl</td>\n",
              "      <td>None</td>\n",
              "      <td>\\nCREATE TABLE `bigquery-public-data.thelook_e...</td>\n",
              "    </tr>\n",
              "    <tr>\n",
              "      <th>23</th>\n",
              "      <td>44916-ddl</td>\n",
              "      <td>ddl</td>\n",
              "      <td>None</td>\n",
              "      <td>\\nCREATE TABLE `bigquery-public-data.thelook_e...</td>\n",
              "    </tr>\n",
              "    <tr>\n",
              "      <th>24</th>\n",
              "      <td>45112-ddl</td>\n",
              "      <td>ddl</td>\n",
              "      <td>None</td>\n",
              "      <td>\\nCREATE TABLE `bigquery-public-data.thelook_e...</td>\n",
              "    </tr>\n",
              "    <tr>\n",
              "      <th>25</th>\n",
              "      <td>44911-ddl</td>\n",
              "      <td>ddl</td>\n",
              "      <td>None</td>\n",
              "      <td>\\nCREATE TABLE `bigquery-public-data.thelook_e...</td>\n",
              "    </tr>\n",
              "    <tr>\n",
              "      <th>26</th>\n",
              "      <td>45115-ddl</td>\n",
              "      <td>ddl</td>\n",
              "      <td>None</td>\n",
              "      <td>\\nCREATE TABLE `bigquery-public-data.thelook_e...</td>\n",
              "    </tr>\n",
              "    <tr>\n",
              "      <th>27</th>\n",
              "      <td>44709-ddl</td>\n",
              "      <td>ddl</td>\n",
              "      <td>None</td>\n",
              "      <td>\\nCREATE TABLE `bigquery-public-data.thelook_e...</td>\n",
              "    </tr>\n",
              "    <tr>\n",
              "      <th>28</th>\n",
              "      <td>45118-ddl</td>\n",
              "      <td>ddl</td>\n",
              "      <td>None</td>\n",
              "      <td>\\nCREATE TABLE `bigquery-public-data.thelook_e...</td>\n",
              "    </tr>\n",
              "    <tr>\n",
              "      <th>29</th>\n",
              "      <td>43244-ddl</td>\n",
              "      <td>ddl</td>\n",
              "      <td>None</td>\n",
              "      <td>\\nCREATE TABLE `bigquery-public-data.thelook_e...</td>\n",
              "    </tr>\n",
              "    <tr>\n",
              "      <th>30</th>\n",
              "      <td>44924-ddl</td>\n",
              "      <td>ddl</td>\n",
              "      <td>None</td>\n",
              "      <td>\\nCREATE TABLE `bigquery-public-data.thelook_e...</td>\n",
              "    </tr>\n",
              "    <tr>\n",
              "      <th>31</th>\n",
              "      <td>44734-ddl</td>\n",
              "      <td>ddl</td>\n",
              "      <td>None</td>\n",
              "      <td>\\nCREATE TABLE `bigquery-public-data.thelook_e...</td>\n",
              "    </tr>\n",
              "    <tr>\n",
              "      <th>32</th>\n",
              "      <td>45108-ddl</td>\n",
              "      <td>ddl</td>\n",
              "      <td>None</td>\n",
              "      <td>\\nCREATE TABLE `bigquery-public-data.thelook_e...</td>\n",
              "    </tr>\n",
              "    <tr>\n",
              "      <th>33</th>\n",
              "      <td>44912-ddl</td>\n",
              "      <td>ddl</td>\n",
              "      <td>None</td>\n",
              "      <td>\\nCREATE TABLE `bigquery-public-data.thelook_e...</td>\n",
              "    </tr>\n",
              "    <tr>\n",
              "      <th>34</th>\n",
              "      <td>45110-ddl</td>\n",
              "      <td>ddl</td>\n",
              "      <td>None</td>\n",
              "      <td>\\nCREATE TABLE `bigquery-public-data.thelook_e...</td>\n",
              "    </tr>\n",
              "    <tr>\n",
              "      <th>35</th>\n",
              "      <td>43246-ddl</td>\n",
              "      <td>ddl</td>\n",
              "      <td>None</td>\n",
              "      <td>\\nCREATE TABLE `bigquery-public-data.thelook_e...</td>\n",
              "    </tr>\n",
              "    <tr>\n",
              "      <th>36</th>\n",
              "      <td>44710-ddl</td>\n",
              "      <td>ddl</td>\n",
              "      <td>None</td>\n",
              "      <td>\\nCREATE TABLE `bigquery-public-data.thelook_e...</td>\n",
              "    </tr>\n",
              "    <tr>\n",
              "      <th>37</th>\n",
              "      <td>43239-ddl</td>\n",
              "      <td>ddl</td>\n",
              "      <td>None</td>\n",
              "      <td>\\nCREATE TABLE `bigquery-public-data.thelook_e...</td>\n",
              "    </tr>\n",
              "    <tr>\n",
              "      <th>38</th>\n",
              "      <td>45113-ddl</td>\n",
              "      <td>ddl</td>\n",
              "      <td>None</td>\n",
              "      <td>\\nCREATE TABLE `bigquery-public-data.thelook_e...</td>\n",
              "    </tr>\n",
              "    <tr>\n",
              "      <th>39</th>\n",
              "      <td>45109-ddl</td>\n",
              "      <td>ddl</td>\n",
              "      <td>None</td>\n",
              "      <td>\\nCREATE TABLE `bigquery-public-data.thelook_e...</td>\n",
              "    </tr>\n",
              "    <tr>\n",
              "      <th>40</th>\n",
              "      <td>139750-sql</td>\n",
              "      <td>sql</td>\n",
              "      <td>What is the average retail price of products i...</td>\n",
              "      <td>SELECT AVG(product_retail_price) AS average_re...</td>\n",
              "    </tr>\n",
              "    <tr>\n",
              "      <th>41</th>\n",
              "      <td>44708-ddl</td>\n",
              "      <td>ddl</td>\n",
              "      <td>None</td>\n",
              "      <td>\\nCREATE TABLE `bigquery-public-data.thelook_e...</td>\n",
              "    </tr>\n",
              "    <tr>\n",
              "      <th>42</th>\n",
              "      <td>45119-ddl</td>\n",
              "      <td>ddl</td>\n",
              "      <td>None</td>\n",
              "      <td>\\nCREATE TABLE `bigquery-public-data.thelook_e...</td>\n",
              "    </tr>\n",
              "    <tr>\n",
              "      <th>43</th>\n",
              "      <td>44923-ddl</td>\n",
              "      <td>ddl</td>\n",
              "      <td>None</td>\n",
              "      <td>\\nCREATE TABLE `bigquery-public-data.thelook_e...</td>\n",
              "    </tr>\n",
              "    <tr>\n",
              "      <th>44</th>\n",
              "      <td>44914-ddl</td>\n",
              "      <td>ddl</td>\n",
              "      <td>None</td>\n",
              "      <td>\\nCREATE TABLE `bigquery-public-data.thelook_e...</td>\n",
              "    </tr>\n",
              "    <tr>\n",
              "      <th>45</th>\n",
              "      <td>45114-ddl</td>\n",
              "      <td>ddl</td>\n",
              "      <td>None</td>\n",
              "      <td>\\nCREATE TABLE `bigquery-public-data.thelook_e...</td>\n",
              "    </tr>\n",
              "    <tr>\n",
              "      <th>46</th>\n",
              "      <td>44922-ddl</td>\n",
              "      <td>ddl</td>\n",
              "      <td>None</td>\n",
              "      <td>\\nCREATE TABLE `bigquery-public-data.thelook_e...</td>\n",
              "    </tr>\n",
              "    <tr>\n",
              "      <th>47</th>\n",
              "      <td>44739-ddl</td>\n",
              "      <td>ddl</td>\n",
              "      <td>None</td>\n",
              "      <td>\\nCREATE TABLE `bigquery-public-data.thelook_e...</td>\n",
              "    </tr>\n",
              "    <tr>\n",
              "      <th>48</th>\n",
              "      <td>44705-ddl</td>\n",
              "      <td>ddl</td>\n",
              "      <td>None</td>\n",
              "      <td>\\nCREATE TABLE `bigquery-public-data.thelook_e...</td>\n",
              "    </tr>\n",
              "    <tr>\n",
              "      <th>49</th>\n",
              "      <td>45121-ddl</td>\n",
              "      <td>ddl</td>\n",
              "      <td>None</td>\n",
              "      <td>\\nCREATE TABLE `bigquery-public-data.thelook_e...</td>\n",
              "    </tr>\n",
              "    <tr>\n",
              "      <th>50</th>\n",
              "      <td>44735-ddl</td>\n",
              "      <td>ddl</td>\n",
              "      <td>None</td>\n",
              "      <td>\\nCREATE TABLE `bigquery-public-data.thelook_e...</td>\n",
              "    </tr>\n",
              "    <tr>\n",
              "      <th>51</th>\n",
              "      <td>44921-ddl</td>\n",
              "      <td>ddl</td>\n",
              "      <td>None</td>\n",
              "      <td>\\nCREATE TABLE `bigquery-public-data.thelook_e...</td>\n",
              "    </tr>\n",
              "    <tr>\n",
              "      <th>52</th>\n",
              "      <td>43238-ddl</td>\n",
              "      <td>ddl</td>\n",
              "      <td>None</td>\n",
              "      <td>\\nCREATE TABLE `bigquery-public-data.thelook_e...</td>\n",
              "    </tr>\n",
              "    <tr>\n",
              "      <th>53</th>\n",
              "      <td>44737-ddl</td>\n",
              "      <td>ddl</td>\n",
              "      <td>None</td>\n",
              "      <td>\\nCREATE TABLE `bigquery-public-data.thelook_e...</td>\n",
              "    </tr>\n",
              "    <tr>\n",
              "      <th>54</th>\n",
              "      <td>44913-ddl</td>\n",
              "      <td>ddl</td>\n",
              "      <td>None</td>\n",
              "      <td>\\nCREATE TABLE `bigquery-public-data.thelook_e...</td>\n",
              "    </tr>\n",
              "    <tr>\n",
              "      <th>55</th>\n",
              "      <td>45120-ddl</td>\n",
              "      <td>ddl</td>\n",
              "      <td>None</td>\n",
              "      <td>\\nCREATE TABLE `bigquery-public-data.thelook_e...</td>\n",
              "    </tr>\n",
              "  </tbody>\n",
              "</table>\n",
              "</div>"
            ],
            "text/plain": [
              "            id training_data_type  \\\n",
              "0   139780-sql                sql   \n",
              "1    44707-ddl                ddl   \n",
              "2    44706-ddl                ddl   \n",
              "3    45111-ddl                ddl   \n",
              "4    44915-ddl                ddl   \n",
              "5    44920-ddl                ddl   \n",
              "6    44918-ddl                ddl   \n",
              "7    44733-ddl                ddl   \n",
              "8    44917-ddl                ddl   \n",
              "9    43241-ddl                ddl   \n",
              "10  147316-sql                sql   \n",
              "11   44736-ddl                ddl   \n",
              "12   44704-ddl                ddl   \n",
              "13   43240-ddl                ddl   \n",
              "14   43242-ddl                ddl   \n",
              "15   45116-ddl                ddl   \n",
              "16  139794-sql                sql   \n",
              "17   44919-ddl                ddl   \n",
              "18   43247-ddl                ddl   \n",
              "19   43243-ddl                ddl   \n",
              "20   45117-ddl                ddl   \n",
              "21   43245-ddl                ddl   \n",
              "22   44738-ddl                ddl   \n",
              "23   44916-ddl                ddl   \n",
              "24   45112-ddl                ddl   \n",
              "25   44911-ddl                ddl   \n",
              "26   45115-ddl                ddl   \n",
              "27   44709-ddl                ddl   \n",
              "28   45118-ddl                ddl   \n",
              "29   43244-ddl                ddl   \n",
              "30   44924-ddl                ddl   \n",
              "31   44734-ddl                ddl   \n",
              "32   45108-ddl                ddl   \n",
              "33   44912-ddl                ddl   \n",
              "34   45110-ddl                ddl   \n",
              "35   43246-ddl                ddl   \n",
              "36   44710-ddl                ddl   \n",
              "37   43239-ddl                ddl   \n",
              "38   45113-ddl                ddl   \n",
              "39   45109-ddl                ddl   \n",
              "40  139750-sql                sql   \n",
              "41   44708-ddl                ddl   \n",
              "42   45119-ddl                ddl   \n",
              "43   44923-ddl                ddl   \n",
              "44   44914-ddl                ddl   \n",
              "45   45114-ddl                ddl   \n",
              "46   44922-ddl                ddl   \n",
              "47   44739-ddl                ddl   \n",
              "48   44705-ddl                ddl   \n",
              "49   45121-ddl                ddl   \n",
              "50   44735-ddl                ddl   \n",
              "51   44921-ddl                ddl   \n",
              "52   43238-ddl                ddl   \n",
              "53   44737-ddl                ddl   \n",
              "54   44913-ddl                ddl   \n",
              "55   45120-ddl                ddl   \n",
              "\n",
              "                                             question  \\\n",
              "0   How many different product categories are ther...   \n",
              "1                                                None   \n",
              "2                                                None   \n",
              "3                                                None   \n",
              "4                                                None   \n",
              "5                                                None   \n",
              "6                                                None   \n",
              "7                                                None   \n",
              "8                                                None   \n",
              "9                                                None   \n",
              "10  What are the 5 most popular products based on ...   \n",
              "11                                               None   \n",
              "12                                               None   \n",
              "13                                               None   \n",
              "14                                               None   \n",
              "15                                               None   \n",
              "16  What is the trend in user orders in the last 4...   \n",
              "17                                               None   \n",
              "18                                               None   \n",
              "19                                               None   \n",
              "20                                               None   \n",
              "21                                               None   \n",
              "22                                               None   \n",
              "23                                               None   \n",
              "24                                               None   \n",
              "25                                               None   \n",
              "26                                               None   \n",
              "27                                               None   \n",
              "28                                               None   \n",
              "29                                               None   \n",
              "30                                               None   \n",
              "31                                               None   \n",
              "32                                               None   \n",
              "33                                               None   \n",
              "34                                               None   \n",
              "35                                               None   \n",
              "36                                               None   \n",
              "37                                               None   \n",
              "38                                               None   \n",
              "39                                               None   \n",
              "40  What is the average retail price of products i...   \n",
              "41                                               None   \n",
              "42                                               None   \n",
              "43                                               None   \n",
              "44                                               None   \n",
              "45                                               None   \n",
              "46                                               None   \n",
              "47                                               None   \n",
              "48                                               None   \n",
              "49                                               None   \n",
              "50                                               None   \n",
              "51                                               None   \n",
              "52                                               None   \n",
              "53                                               None   \n",
              "54                                               None   \n",
              "55                                               None   \n",
              "\n",
              "                                              content  \n",
              "0   SELECT COUNT(DISTINCT product_category) AS num...  \n",
              "1   \\nCREATE TABLE `bigquery-public-data.thelook_e...  \n",
              "2   \\nCREATE TABLE `bigquery-public-data.thelook_e...  \n",
              "3   \\nCREATE TABLE `bigquery-public-data.thelook_e...  \n",
              "4   \\nCREATE TABLE `bigquery-public-data.thelook_e...  \n",
              "5   \\nCREATE TABLE `bigquery-public-data.thelook_e...  \n",
              "6   \\nCREATE TABLE `bigquery-public-data.thelook_e...  \n",
              "7   \\nCREATE TABLE `bigquery-public-data.thelook_e...  \n",
              "8   \\nCREATE TABLE `bigquery-public-data.thelook_e...  \n",
              "9   \\nCREATE TABLE `bigquery-public-data.thelook_e...  \n",
              "10  SELECT product_id, product_name, SUM(num_of_it...  \n",
              "11  \\nCREATE TABLE `bigquery-public-data.thelook_e...  \n",
              "12  \\nCREATE TABLE `bigquery-public-data.thelook_e...  \n",
              "13  \\nCREATE TABLE `bigquery-public-data.thelook_e...  \n",
              "14  \\nCREATE TABLE `bigquery-public-data.thelook_e...  \n",
              "15  \\nCREATE TABLE `bigquery-public-data.thelook_e...  \n",
              "16  SELECT DATE_TRUNC(created_at, MONTH) AS month,...  \n",
              "17  \\nCREATE TABLE `bigquery-public-data.thelook_e...  \n",
              "18  \\nCREATE TABLE `bigquery-public-data.thelook_e...  \n",
              "19  \\nCREATE TABLE `bigquery-public-data.thelook_e...  \n",
              "20  \\nCREATE TABLE `bigquery-public-data.thelook_e...  \n",
              "21  \\nCREATE TABLE `bigquery-public-data.thelook_e...  \n",
              "22  \\nCREATE TABLE `bigquery-public-data.thelook_e...  \n",
              "23  \\nCREATE TABLE `bigquery-public-data.thelook_e...  \n",
              "24  \\nCREATE TABLE `bigquery-public-data.thelook_e...  \n",
              "25  \\nCREATE TABLE `bigquery-public-data.thelook_e...  \n",
              "26  \\nCREATE TABLE `bigquery-public-data.thelook_e...  \n",
              "27  \\nCREATE TABLE `bigquery-public-data.thelook_e...  \n",
              "28  \\nCREATE TABLE `bigquery-public-data.thelook_e...  \n",
              "29  \\nCREATE TABLE `bigquery-public-data.thelook_e...  \n",
              "30  \\nCREATE TABLE `bigquery-public-data.thelook_e...  \n",
              "31  \\nCREATE TABLE `bigquery-public-data.thelook_e...  \n",
              "32  \\nCREATE TABLE `bigquery-public-data.thelook_e...  \n",
              "33  \\nCREATE TABLE `bigquery-public-data.thelook_e...  \n",
              "34  \\nCREATE TABLE `bigquery-public-data.thelook_e...  \n",
              "35  \\nCREATE TABLE `bigquery-public-data.thelook_e...  \n",
              "36  \\nCREATE TABLE `bigquery-public-data.thelook_e...  \n",
              "37  \\nCREATE TABLE `bigquery-public-data.thelook_e...  \n",
              "38  \\nCREATE TABLE `bigquery-public-data.thelook_e...  \n",
              "39  \\nCREATE TABLE `bigquery-public-data.thelook_e...  \n",
              "40  SELECT AVG(product_retail_price) AS average_re...  \n",
              "41  \\nCREATE TABLE `bigquery-public-data.thelook_e...  \n",
              "42  \\nCREATE TABLE `bigquery-public-data.thelook_e...  \n",
              "43  \\nCREATE TABLE `bigquery-public-data.thelook_e...  \n",
              "44  \\nCREATE TABLE `bigquery-public-data.thelook_e...  \n",
              "45  \\nCREATE TABLE `bigquery-public-data.thelook_e...  \n",
              "46  \\nCREATE TABLE `bigquery-public-data.thelook_e...  \n",
              "47  \\nCREATE TABLE `bigquery-public-data.thelook_e...  \n",
              "48  \\nCREATE TABLE `bigquery-public-data.thelook_e...  \n",
              "49  \\nCREATE TABLE `bigquery-public-data.thelook_e...  \n",
              "50  \\nCREATE TABLE `bigquery-public-data.thelook_e...  \n",
              "51  \\nCREATE TABLE `bigquery-public-data.thelook_e...  \n",
              "52  \\nCREATE TABLE `bigquery-public-data.thelook_e...  \n",
              "53  \\nCREATE TABLE `bigquery-public-data.thelook_e...  \n",
              "54  \\nCREATE TABLE `bigquery-public-data.thelook_e...  \n",
              "55  \\nCREATE TABLE `bigquery-public-data.thelook_e...  "
            ]
          },
          "execution_count": 12,
          "metadata": {},
          "output_type": "execute_result"
        }
      ],
      "source": [
        "training_data = vn.get_training_data()\n",
        "training_data"
      ]
    },
    {
      "cell_type": "code",
      "execution_count": 13,
      "metadata": {
        "colab": {
          "base_uri": "https://localhost:8080/"
        },
        "executionInfo": {
          "elapsed": 3792,
          "status": "ok",
          "timestamp": 1709541263552,
          "user": {
            "displayName": "",
            "userId": ""
          },
          "user_tz": -60
        },
        "id": "dPHfLUR2jtZt",
        "outputId": "a11d0471-e215-44c8-cd7f-b0f2f27fab20"
      },
      "outputs": [
        {
          "data": {
            "text/plain": [
              "['How many unique product categories are there in the inventory items table?',\n",
              " 'What is the average retail price of the products in the inventory items table?',\n",
              " 'How many orders were placed in each month over the past 4 months?',\n",
              " 'What are the top 5 best-selling products based on the total number of sales?',\n",
              " 'How many orders have been returned?',\n",
              " 'What is the total cost of all products in the inventory items table?',\n",
              " 'What is the total number of items sold in each category?',\n",
              " 'How many users have made purchases?',\n",
              " 'How many different distribution centers are there?',\n",
              " 'What is the average age of the users?']"
            ]
          },
          "execution_count": 13,
          "metadata": {},
          "output_type": "execute_result"
        }
      ],
      "source": [
        "vn.generate_questions()"
      ]
    },
    {
      "cell_type": "code",
      "execution_count": 14,
      "metadata": {
        "colab": {
          "base_uri": "https://localhost:8080/",
          "height": 1000
        },
        "executionInfo": {
          "elapsed": 5893,
          "status": "ok",
          "timestamp": 1709541269436,
          "user": {
            "displayName": "",
            "userId": ""
          },
          "user_tz": -60
        },
        "id": "Hu0tQpbVj8-q",
        "outputId": "0ff01519-d573-4e0c-fbf4-4b28b111d2bb"
      },
      "outputs": [
        {
          "name": "stdout",
          "output_type": "stream",
          "text": [
            "SELECT COUNT(DISTINCT product_category) AS num_of_categories\n",
            "FROM `bigquery-public-data.thelook_ecommerce.inventory_items`;\n",
            "Couldn't run sql:  exceptions must derive from BaseException\n"
          ]
        }
      ],
      "source": [
        "vn.ask('How many different product categories are there in the inventory items table?')"
      ]
    },
    {
      "cell_type": "code",
      "execution_count": 15,
      "metadata": {
        "colab": {
          "base_uri": "https://localhost:8080/",
          "height": 1000
        },
        "executionInfo": {
          "elapsed": 6345,
          "status": "ok",
          "timestamp": 1709541275779,
          "user": {
            "displayName": "",
            "userId": ""
          },
          "user_tz": -60
        },
        "id": "GBSHwtlMomUE",
        "outputId": "01507abc-f93c-40ec-e178-044f6366e2eb"
      },
      "outputs": [
        {
          "name": "stdout",
          "output_type": "stream",
          "text": [
            "SELECT DATE_TRUNC(created_at, MONTH) AS month,\n",
            "       COUNT(order_id) AS num_of_orders\n",
            "FROM `bigquery-public-data.thelook_ecommerce.orders`\n",
            "WHERE DATE(created_at) >= DATE_SUB(CURRENT_DATE(), INTERVAL 4 MONTH)\n",
            "GROUP BY month\n",
            "ORDER BY month;\n",
            "Couldn't run sql:  exceptions must derive from BaseException\n"
          ]
        }
      ],
      "source": [
        "vn.ask(\"What is the trend in user orders in the last 4 months?\")"
      ]
    },
    {
      "cell_type": "code",
      "execution_count": 16,
      "metadata": {
        "colab": {
          "base_uri": "https://localhost:8080/",
          "height": 1000
        },
        "executionInfo": {
          "elapsed": 9124,
          "status": "ok",
          "timestamp": 1709541284901,
          "user": {
            "displayName": "",
            "userId": ""
          },
          "user_tz": -60
        },
        "id": "kIXE5xDvkfnF",
        "outputId": "e931fb7c-1608-4965-a3a3-b884d915d305"
      },
      "outputs": [
        {
          "name": "stdout",
          "output_type": "stream",
          "text": [
            "SELECT product_id, product_name, SUM(num_of_item) AS total_sales\n",
            "FROM `bigquery-public-data.thelook_ecommerce.orders` o\n",
            "JOIN `bigquery-public-data.thelook_ecommerce.inventory_items` i\n",
            "ON o.order_id = i.id\n",
            "WHERE DATE(o.created_at) >= DATE_SUB(CURRENT_DATE(), INTERVAL 1 YEAR)\n",
            "GROUP BY product_id, product_name\n",
            "ORDER BY total_sales DESC\n",
            "LIMIT 5;\n",
            "Couldn't run sql:  exceptions must derive from BaseException\n"
          ]
        }
      ],
      "source": [
        "vn.ask(\"What are the 5 most popular products based on their sales on the last year?\")"
      ]
    },
    {
      "cell_type": "code",
      "execution_count": 17,
      "metadata": {
        "colab": {
          "base_uri": "https://localhost:8080/",
          "height": 104
        },
        "id": "iaDFXY16mgoU",
        "outputId": "c802b5ce-0e37-4ec3-cf51-94e4a7a46f80"
      },
      "outputs": [
        {
          "name": "stdout",
          "output_type": "stream",
          "text": [
            "Your app is running at:\n",
            "http://localhost:8084\n",
            " * Serving Flask app 'vanna.flask'\n",
            " * Debug mode: off\n"
          ]
        }
      ],
      "source": [
        "from vanna.flask import VannaFlaskApp\n",
        "app = VannaFlaskApp(vn)\n",
        "app.run()"
      ]
    }
  ],
  "metadata": {
    "colab": {
      "cell_execution_strategy": "setup",
      "name": "BigQuery table",
      "provenance": []
    },
    "kernelspec": {
      "display_name": "Python 3",
      "name": "python3"
    },
    "language_info": {
      "codemirror_mode": {
        "name": "ipython",
        "version": 3
      },
      "file_extension": ".py",
      "mimetype": "text/x-python",
      "name": "python",
      "nbconvert_exporter": "python",
      "pygments_lexer": "ipython3",
      "version": "3.9.6"
    }
  },
  "nbformat": 4,
  "nbformat_minor": 0
}
